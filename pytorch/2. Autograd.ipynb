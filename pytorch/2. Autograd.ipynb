{
 "cells": [
  {
   "cell_type": "markdown",
   "metadata": {},
   "source": [
    "## PyTorch Tutorial\n",
    "MILA, December 2018\n",
    "\n",
    "By Sandeep Subramanian"
   ]
  },
  {
   "cell_type": "markdown",
   "metadata": {},
   "source": [
    "### Torch Autograd, Define-by-run & Execution Paradigm\n",
    "\n",
    "Adapted from\n",
    "1. http://pytorch.org/tutorials/beginner/blitz/autograd_tutorial.html#sphx-glr-beginner-blitz-autograd-tutorial-py \n",
    "2. http://pytorch.org/docs/master/notes/autograd.html"
   ]
  },
  {
   "cell_type": "markdown",
   "metadata": {},
   "source": [
    "## Torch Tensors and Gradients\n",
    "\n",
    "Almost all (differentiable) operations on tensors support gradient computation"
   ]
  },
  {
   "cell_type": "code",
   "execution_count": 1,
   "metadata": {},
   "outputs": [],
   "source": [
    "import numpy as np\n",
    "from __future__ import print_function"
   ]
  },
  {
   "cell_type": "code",
   "execution_count": 3,
   "metadata": {},
   "outputs": [],
   "source": [
    "import torch"
   ]
  },
  {
   "cell_type": "markdown",
   "metadata": {},
   "source": [
    "### Wrap tensors in a Variable"
   ]
  },
  {
   "cell_type": "code",
   "execution_count": 4,
   "metadata": {},
   "outputs": [
    {
     "name": "stdout",
     "output_type": "stream",
     "text": [
      "tensor([[-0.6116, -0.4678, -0.3097],\n",
      "        [ 0.8147, -0.2846,  0.6574],\n",
      "        [ 0.8518,  0.4801,  0.5343],\n",
      "        [-0.2408, -0.2342, -0.6451],\n",
      "        [ 0.6954, -0.9469,  0.4634]])\n"
     ]
    }
   ],
   "source": [
    "z = torch.Tensor(5, 3).uniform_(-1, 1)\n",
    "print(z)"
   ]
  },
  {
   "cell_type": "markdown",
   "metadata": {},
   "source": [
    "### Properties of Tensors : Requiring gradients, Volatility, Data & Grad\n",
    "\n",
    "1. You can access the raw tensor value through the .data attribute\n",
    "2. Gradient of the loss w.r.t. this variable is *accumulated* into .grad.\n",
    "3. Stay tuned for requires_grad"
   ]
  },
  {
   "cell_type": "code",
   "execution_count": 7,
   "metadata": {},
   "outputs": [
    {
     "name": "stdout",
     "output_type": "stream",
     "text": [
      "tensor([[-0.6116, -0.4678, -0.3097],\n",
      "        [ 0.8147, -0.2846,  0.6574],\n",
      "        [ 0.8518,  0.4801,  0.5343],\n",
      "        [-0.2408, -0.2342, -0.6451],\n",
      "        [ 0.6954, -0.9469,  0.4634]])\n",
      "Requires Gradient : False \n",
      "Gradient : None \n"
     ]
    }
   ],
   "source": [
    "print(z.data)\n",
    "print('Requires Gradient : %s ' % (z.requires_grad))\n",
    "print('Gradient : %s ' % (z.grad))"
   ]
  },
  {
   "cell_type": "code",
   "execution_count": 13,
   "metadata": {},
   "outputs": [
    {
     "name": "stdout",
     "output_type": "stream",
     "text": [
      "torch.Size([5, 5])\n"
     ]
    }
   ],
   "source": [
    "### Operations on Variables\n",
    "x = torch.Tensor(5, 3).uniform_(-1, 1)\n",
    "y = torch.Tensor(3, 5).uniform_(-1, 1)\n",
    "# matrix multiplication\n",
    "z = torch.mm(x, y)\n",
    "print(z.size())"
   ]
  },
  {
   "cell_type": "markdown",
   "metadata": {},
   "source": [
    "## Define-by-run Paradigm\n",
    "\n",
    "The torch autograd package provides automatic differentiation for all operations on Tensors.\n",
    "\n",
    "PyTorch's autograd is a reverse mode automatic differentiation system.\n",
    "\n",
    "Backprop is defined by how your code is run, and that every single iteration can be different.\n",
    "\n",
    "Other frameworks that adopt a similar approach :\n",
    "\n",
    "1. Chainer - https://github.com/chainer/chainer\n",
    "2. DyNet - https://github.com/clab/dynet\n",
    "3. Tensorflow Eager - https://research.googleblog.com/2017/10/eager-execution-imperative-define-by.html\n",
    "\n",
    "### How autograd encodes execution history\n",
    "\n",
    "\n",
    "Conceptually, autograd maintains a graph that records all of the operations performed on tensors as you execute your operations. This results in a directed acyclic graph whose leaves are the input variables and roots are the output variables. By tracing this graph from roots to leaves, you can automatically compute the gradients using the chain rule."
   ]
  },
  {
   "cell_type": "markdown",
   "metadata": {},
   "source": [
    "![caption](images/dynamic_graph.gif)"
   ]
  },
  {
   "cell_type": "markdown",
   "metadata": {},
   "source": [
    "GIF source: https://github.com/pytorch/pytorch"
   ]
  },
  {
   "cell_type": "markdown",
   "metadata": {},
   "source": [
    "Internally, autograd represents this graph as a graph of Function objects (really expressions), which can be `apply()` ed to compute the result of evaluating the graph. When computing the forwards pass, autograd simultaneously performs the requested computations and builds up a graph representing the function that computes the gradient (the `.grad_fn` attribute of each Variable is an entry point into this graph). When the forwards pass is completed, we evaluate this graph in the backwards pass to compute the gradients."
   ]
  },
  {
   "cell_type": "code",
   "execution_count": 16,
   "metadata": {},
   "outputs": [
    {
     "name": "stdout",
     "output_type": "stream",
     "text": [
      "<MmBackward object at 0x11b5c2828>\n"
     ]
    }
   ],
   "source": [
    "x = torch.Tensor(5, 3).uniform_(-1, 1)\n",
    "y = torch.Tensor(3, 5).uniform_(-1, 1)\n",
    "x.requires_grad = True\n",
    "z = torch.mm(x, y)\n",
    "print(z.grad_fn)"
   ]
  },
  {
   "cell_type": "markdown",
   "metadata": {},
   "source": [
    "An important thing to note is that the graph is recreated from scratch at every iteration, and this is exactly what allows for using arbitrary Python control flow statements, that can change the overall shape and size of the graph at every iteration. You don’t have to encode all possible paths before you launch the training - what you run is what you differentiate."
   ]
  },
  {
   "cell_type": "markdown",
   "metadata": {},
   "source": [
    "## Getting gradients : `backward()` & `torch.autograd.grad`"
   ]
  },
  {
   "cell_type": "code",
   "execution_count": 17,
   "metadata": {},
   "outputs": [],
   "source": [
    "x = torch.Tensor(5, 3).uniform_(-1, 1)\n",
    "y = torch.Tensor(5, 3).uniform_(-1, 1)\n",
    "x.requires_grad = True\n",
    "y.requires_grad = True\n",
    "z = x ** 2 + 3 * y\n",
    "z.backward(gradient=torch.ones(5, 3))"
   ]
  },
  {
   "cell_type": "code",
   "execution_count": 20,
   "metadata": {},
   "outputs": [
    {
     "data": {
      "text/plain": [
       "tensor([[1, 1, 1],\n",
       "        [1, 1, 1],\n",
       "        [1, 1, 1],\n",
       "        [1, 1, 1],\n",
       "        [1, 1, 1]], dtype=torch.uint8)"
      ]
     },
     "execution_count": 20,
     "metadata": {},
     "output_type": "execute_result"
    }
   ],
   "source": [
    "# eq computes element-wise equality\n",
    "torch.eq(x.grad, 2 * x)"
   ]
  },
  {
   "cell_type": "code",
   "execution_count": 21,
   "metadata": {},
   "outputs": [
    {
     "data": {
      "text/plain": [
       "tensor([[3., 3., 3.],\n",
       "        [3., 3., 3.],\n",
       "        [3., 3., 3.],\n",
       "        [3., 3., 3.],\n",
       "        [3., 3., 3.]])"
      ]
     },
     "execution_count": 21,
     "metadata": {},
     "output_type": "execute_result"
    }
   ],
   "source": [
    "y.grad"
   ]
  },
  {
   "cell_type": "code",
   "execution_count": 23,
   "metadata": {},
   "outputs": [],
   "source": [
    "x = torch.Tensor(5, 3).uniform_(-1, 1)\n",
    "y = torch.Tensor(5, 3).uniform_(-1, 1)\n",
    "x.requires_grad = True\n",
    "y.requires_grad = True\n",
    "z = x ** 2 + 3 * y\n",
    "dz_dx = torch.autograd.grad(z, x, grad_outputs=torch.ones(5, 3))\n",
    "dz_dy = torch.autograd.grad(z, y, grad_outputs=torch.ones(5, 3))"
   ]
  },
  {
   "cell_type": "markdown",
   "metadata": {},
   "source": [
    "## Define-by-run example"
   ]
  },
  {
   "cell_type": "markdown",
   "metadata": {},
   "source": [
    "### Common Tensor definitions"
   ]
  },
  {
   "cell_type": "code",
   "execution_count": 28,
   "metadata": {},
   "outputs": [],
   "source": [
    "x = torch.Tensor(5, 3).uniform_(-1, 1)\n",
    "w = torch.Tensor(3, 10).uniform_(-1, 1)\n",
    "b = torch.Tensor(10,).uniform_(-1, 1)"
   ]
  },
  {
   "cell_type": "markdown",
   "metadata": {},
   "source": [
    "### Set all to require grad"
   ]
  },
  {
   "cell_type": "code",
   "execution_count": 29,
   "metadata": {},
   "outputs": [],
   "source": [
    "x.requires_grad = True\n",
    "w.requires_grad = True\n",
    "b.requires_grad = True"
   ]
  },
  {
   "cell_type": "markdown",
   "metadata": {},
   "source": [
    "### Graph 1 : `wx + b`"
   ]
  },
  {
   "cell_type": "code",
   "execution_count": 46,
   "metadata": {},
   "outputs": [],
   "source": [
    "o = torch.matmul(x, w) + b\n",
    "do_dinputs_1 = torch.autograd.grad(o, [x, w, b], grad_outputs=torch.ones(5, 10))"
   ]
  },
  {
   "cell_type": "code",
   "execution_count": 47,
   "metadata": {},
   "outputs": [
    {
     "name": "stdout",
     "output_type": "stream",
     "text": [
      "Gradients of o w.r.t inputs in Graph 1\n",
      "do/dx : \n",
      "\n",
      " tensor([[-0.2279, -0.4665,  2.3362],\n",
      "        [-0.2279, -0.4665,  2.3362],\n",
      "        [-0.2279, -0.4665,  2.3362],\n",
      "        [-0.2279, -0.4665,  2.3362],\n",
      "        [-0.2279, -0.4665,  2.3362]]) \n",
      "do/dw : \n",
      "\n",
      " tensor([[-3.0675e+00, -3.0675e+00, -3.0675e+00, -3.0675e+00, -3.0675e+00,\n",
      "         -3.0675e+00, -3.0675e+00, -3.0675e+00, -3.0675e+00, -3.0675e+00],\n",
      "        [-1.6079e-03, -1.6079e-03, -1.6079e-03, -1.6079e-03, -1.6079e-03,\n",
      "         -1.6079e-03, -1.6079e-03, -1.6079e-03, -1.6079e-03, -1.6079e-03],\n",
      "        [-3.3780e-01, -3.3780e-01, -3.3780e-01, -3.3780e-01, -3.3780e-01,\n",
      "         -3.3780e-01, -3.3780e-01, -3.3780e-01, -3.3780e-01, -3.3780e-01]]) \n",
      "do/db : \n",
      "\n",
      " tensor([5., 5., 5., 5., 5., 5., 5., 5., 5., 5.]) \n"
     ]
    }
   ],
   "source": [
    "print('Gradients of o w.r.t inputs in Graph 1')\n",
    "print('do/dx : \\n\\n %s ' % (do_dinputs_1[0]))\n",
    "print('do/dw : \\n\\n %s ' % (do_dinputs_1[1]))\n",
    "print('do/db : \\n\\n %s ' % (do_dinputs_1[2]))"
   ]
  },
  {
   "cell_type": "code",
   "execution_count": 48,
   "metadata": {},
   "outputs": [],
   "source": [
    "o = torch.matmul(x, w) + b\n",
    "loss = ((o - (torch.ones(5, 10) * 10)) ** 2).mean()\n",
    "dloss_dinputs = torch.autograd.grad(loss, [x, w, b, o])"
   ]
  },
  {
   "cell_type": "code",
   "execution_count": 49,
   "metadata": {},
   "outputs": [
    {
     "name": "stdout",
     "output_type": "stream",
     "text": [
      "Gradients of loss w.r.t inputs & o in Graph 1\n",
      "dl/dx : \n",
      "\n",
      " tensor([[ 0.0540,  0.1836, -0.9017],\n",
      "        [-0.0324,  0.2870, -0.9882],\n",
      "        [ 0.1716,  0.0405, -0.9905],\n",
      "        [-0.0060,  0.3200, -0.8747],\n",
      "        [ 0.0236,  0.1326, -1.0127]]) \n",
      "dl/dw : \n",
      "\n",
      " tensor([[ 1.2512,  1.3968,  1.1936,  1.3066,  1.1642,  1.3183,  1.2312,  1.0726,\n",
      "          1.3070,  1.1774],\n",
      "        [ 0.0591, -0.0297,  0.0911, -0.0247,  0.1209, -0.0211, -0.0279,  0.0913,\n",
      "         -0.1499, -0.0396],\n",
      "        [ 0.1983,  0.1893,  0.2304,  0.0912,  0.1795,  0.1655,  0.1358,  0.1932,\n",
      "          0.0799,  0.1144]]) \n",
      "dl/db : \n",
      "\n",
      " tensor([-2.0644, -2.2232, -2.0357, -2.1252, -2.0168, -2.1010, -1.9994, -1.8325,\n",
      "        -1.9829, -1.9155]) \n",
      "dl/do : \n",
      "\n",
      " tensor([[-0.4046, -0.4251, -0.3849, -0.4394, -0.4090, -0.4098, -0.3903, -0.3556,\n",
      "         -0.3892, -0.3754],\n",
      "        [-0.4119, -0.4750, -0.4083, -0.4137, -0.3690, -0.4395, -0.4137, -0.3568,\n",
      "         -0.4397, -0.3956],\n",
      "        [-0.4267, -0.4247, -0.4532, -0.4195, -0.4568, -0.4009, -0.3981, -0.4075,\n",
      "         -0.3304, -0.3824],\n",
      "        [-0.3812, -0.4364, -0.3640, -0.4471, -0.3686, -0.4144, -0.4076, -0.3292,\n",
      "         -0.4403, -0.3994],\n",
      "        [-0.4400, -0.4621, -0.4254, -0.4055, -0.4134, -0.4364, -0.3898, -0.3834,\n",
      "         -0.3833, -0.3627]]) \n"
     ]
    }
   ],
   "source": [
    "print('Gradients of loss w.r.t inputs & o in Graph 1')\n",
    "print('dl/dx : \\n\\n %s ' % (dloss_dinputs[0]))\n",
    "print('dl/dw : \\n\\n %s ' % (dloss_dinputs[1]))\n",
    "print('dl/db : \\n\\n %s ' % (dloss_dinputs[2]))\n",
    "print('dl/do : \\n\\n %s ' % (dloss_dinputs[3]))"
   ]
  },
  {
   "cell_type": "markdown",
   "metadata": {},
   "source": [
    "### Graph 2 : wx / b"
   ]
  },
  {
   "cell_type": "code",
   "execution_count": 50,
   "metadata": {},
   "outputs": [],
   "source": [
    "o = torch.matmul(x, w) / b\n",
    "do_dinputs_2 = torch.autograd.grad(o, [x, w, b], grad_outputs=torch.ones(5, 10))"
   ]
  },
  {
   "cell_type": "code",
   "execution_count": 51,
   "metadata": {},
   "outputs": [
    {
     "name": "stdout",
     "output_type": "stream",
     "text": [
      "Gradients of o w.r.t inputs in Graph 2\n",
      "do/dx : \n",
      " tensor([[-11.0835, -11.9203, -11.9643],\n",
      "        [-11.0835, -11.9203, -11.9643],\n",
      "        [-11.0835, -11.9203, -11.9643],\n",
      "        [-11.0835, -11.9203, -11.9643],\n",
      "        [-11.0835, -11.9203, -11.9643]]) \n",
      "do/dw : \n",
      " tensor([[ 4.0403e+01,  4.2945e+00,  7.2919e+00,  3.7218e+00,  6.9264e+00,\n",
      "          2.9755e+01,  1.9412e+01, -4.6716e+00, -5.9660e+00, -2.9877e+01],\n",
      "        [ 2.1178e-02,  2.2510e-03,  3.8221e-03,  1.9509e-03,  3.6304e-03,\n",
      "          1.5596e-02,  1.0176e-02, -2.4487e-03, -3.1274e-03, -1.5661e-02],\n",
      "        [ 4.4493e+00,  4.7292e-01,  8.0301e-01,  4.0985e-01,  7.6276e-01,\n",
      "          3.2767e+00,  2.1377e+00, -5.1445e-01, -6.5700e-01, -3.2901e+00]]) \n",
      "do/db : \n",
      " tensor([ 213.5344,    3.9383,   -6.8415,   -1.4584,   -9.1481,  189.0114,\n",
      "         -32.2513,   -2.0958,    8.1083, -151.6411]) \n"
     ]
    }
   ],
   "source": [
    "print('Gradients of o w.r.t inputs in Graph 2')\n",
    "print('do/dx : \\n %s ' % (do_dinputs_2[0]))\n",
    "print('do/dw : \\n %s ' % (do_dinputs_2[1]))\n",
    "print('do/db : \\n %s ' % (do_dinputs_2[2]))"
   ]
  },
  {
   "cell_type": "markdown",
   "metadata": {},
   "source": [
    "## Gradient buffers: `.backward()` and `retain_graph=True`\n",
    "\n",
    "1. Calling `.backward()` clears the current computation graph.\n",
    "2. Once `.backward()` is called, intermediate tensors used in the construction of the graph are removed.\n",
    "2. This is used implicitly to let PyTorch know when a new graph is to be built for a new minibatch. This is built around the forward and backward pass paradigm.\n",
    "3. To retain the graph after the backward pass use `loss.backward(retain_graph=True)`. This lets you re-use intermediate tensors (and even their gradients) to potentially compute a secondary loss after the initial gradients are computed. This is useful to implement things like the gradient penalty in WGANs (https://arxiv.org/abs/1704.00028)"
   ]
  },
  {
   "cell_type": "code",
   "execution_count": 52,
   "metadata": {},
   "outputs": [],
   "source": [
    "o = torch.mm(x, w) + b\n",
    "loss = ((o - (torch.ones(5, 10) * 10)) ** 2).mean()\n",
    "loss.backward()"
   ]
  },
  {
   "cell_type": "markdown",
   "metadata": {},
   "source": [
    "### Call backward again -> <font color='red'>This fails</font>"
   ]
  },
  {
   "cell_type": "code",
   "execution_count": 54,
   "metadata": {},
   "outputs": [
    {
     "ename": "RuntimeError",
     "evalue": "Trying to backward through the graph a second time, but the buffers have already been freed. Specify retain_graph=True when calling backward the first time.",
     "output_type": "error",
     "traceback": [
      "\u001b[0;31m---------------------------------------------------------------\u001b[0m",
      "\u001b[0;31mRuntimeError\u001b[0m                  Traceback (most recent call last)",
      "\u001b[0;32m<ipython-input-54-9e7506f9c9ac>\u001b[0m in \u001b[0;36m<module>\u001b[0;34m()\u001b[0m\n\u001b[1;32m      1\u001b[0m \u001b[0mloss\u001b[0m \u001b[0;34m+=\u001b[0m \u001b[0mtorch\u001b[0m\u001b[0;34m.\u001b[0m\u001b[0mnorm\u001b[0m\u001b[0;34m(\u001b[0m\u001b[0mw\u001b[0m\u001b[0;34m)\u001b[0m\u001b[0;34m\u001b[0m\u001b[0;34m\u001b[0m\u001b[0m\n\u001b[0;32m----> 2\u001b[0;31m \u001b[0mloss\u001b[0m\u001b[0;34m.\u001b[0m\u001b[0mbackward\u001b[0m\u001b[0;34m(\u001b[0m\u001b[0;34m)\u001b[0m\u001b[0;34m\u001b[0m\u001b[0;34m\u001b[0m\u001b[0m\n\u001b[0m",
      "\u001b[0;32m~/anaconda3/lib/python3.7/site-packages/torch/tensor.py\u001b[0m in \u001b[0;36mbackward\u001b[0;34m(self, gradient, retain_graph, create_graph)\u001b[0m\n\u001b[1;32m    100\u001b[0m                 \u001b[0mproducts\u001b[0m\u001b[0;34m.\u001b[0m \u001b[0mDefaults\u001b[0m \u001b[0mto\u001b[0m\u001b[0;31m \u001b[0m\u001b[0;31m`\u001b[0m\u001b[0;31m`\u001b[0m\u001b[0;32mFalse\u001b[0m\u001b[0;31m`\u001b[0m\u001b[0;31m`\u001b[0m\u001b[0;34m.\u001b[0m\u001b[0;34m\u001b[0m\u001b[0;34m\u001b[0m\u001b[0m\n\u001b[1;32m    101\u001b[0m         \"\"\"\n\u001b[0;32m--> 102\u001b[0;31m         \u001b[0mtorch\u001b[0m\u001b[0;34m.\u001b[0m\u001b[0mautograd\u001b[0m\u001b[0;34m.\u001b[0m\u001b[0mbackward\u001b[0m\u001b[0;34m(\u001b[0m\u001b[0mself\u001b[0m\u001b[0;34m,\u001b[0m \u001b[0mgradient\u001b[0m\u001b[0;34m,\u001b[0m \u001b[0mretain_graph\u001b[0m\u001b[0;34m,\u001b[0m \u001b[0mcreate_graph\u001b[0m\u001b[0;34m)\u001b[0m\u001b[0;34m\u001b[0m\u001b[0;34m\u001b[0m\u001b[0m\n\u001b[0m\u001b[1;32m    103\u001b[0m \u001b[0;34m\u001b[0m\u001b[0m\n\u001b[1;32m    104\u001b[0m     \u001b[0;32mdef\u001b[0m \u001b[0mregister_hook\u001b[0m\u001b[0;34m(\u001b[0m\u001b[0mself\u001b[0m\u001b[0;34m,\u001b[0m \u001b[0mhook\u001b[0m\u001b[0;34m)\u001b[0m\u001b[0;34m:\u001b[0m\u001b[0;34m\u001b[0m\u001b[0;34m\u001b[0m\u001b[0m\n",
      "\u001b[0;32m~/anaconda3/lib/python3.7/site-packages/torch/autograd/__init__.py\u001b[0m in \u001b[0;36mbackward\u001b[0;34m(tensors, grad_tensors, retain_graph, create_graph, grad_variables)\u001b[0m\n\u001b[1;32m     88\u001b[0m     Variable._execution_engine.run_backward(\n\u001b[1;32m     89\u001b[0m         \u001b[0mtensors\u001b[0m\u001b[0;34m,\u001b[0m \u001b[0mgrad_tensors\u001b[0m\u001b[0;34m,\u001b[0m \u001b[0mretain_graph\u001b[0m\u001b[0;34m,\u001b[0m \u001b[0mcreate_graph\u001b[0m\u001b[0;34m,\u001b[0m\u001b[0;34m\u001b[0m\u001b[0;34m\u001b[0m\u001b[0m\n\u001b[0;32m---> 90\u001b[0;31m         allow_unreachable=True)  # allow_unreachable flag\n\u001b[0m\u001b[1;32m     91\u001b[0m \u001b[0;34m\u001b[0m\u001b[0m\n\u001b[1;32m     92\u001b[0m \u001b[0;34m\u001b[0m\u001b[0m\n",
      "\u001b[0;31mRuntimeError\u001b[0m: Trying to backward through the graph a second time, but the buffers have already been freed. Specify retain_graph=True when calling backward the first time."
     ]
    }
   ],
   "source": [
    "loss += torch.norm(w)\n",
    "loss.backward()"
   ]
  },
  {
   "cell_type": "markdown",
   "metadata": {},
   "source": [
    "###  But with `retain_graph=True`"
   ]
  },
  {
   "cell_type": "code",
   "execution_count": 58,
   "metadata": {},
   "outputs": [],
   "source": [
    "o = torch.mm(x, w) + b\n",
    "loss = ((o - (torch.ones(5, 10) * 10)) ** 2).mean()\n",
    "loss.backward(retain_graph=True)"
   ]
  },
  {
   "cell_type": "code",
   "execution_count": 59,
   "metadata": {},
   "outputs": [],
   "source": [
    "loss += torch.norm(w)\n",
    "loss.backward()"
   ]
  },
  {
   "cell_type": "markdown",
   "metadata": {},
   "source": [
    "## <font color='red'>WARNING:</font> Calling `.backward()` multiple times will accumulate gradients into `.grad` and NOT overwrite them."
   ]
  },
  {
   "cell_type": "markdown",
   "metadata": {},
   "source": [
    "## Excluding subgraphs from backward: requires_grad=False, .detach() and torch.no_grad()\n",
    "\n",
    "### `requires_grad=False`\n",
    "\n",
    "1. If there’s a single input to an operation that requires gradient, its output will also require gradient.\n",
    "\n",
    "2. Conversely, if all inputs don’t require gradient, the output won’t require it.\n",
    "\n",
    "3. Backward computation is never performed in the subgraphs, where all Variables didn’t require gradients.\n",
    "\n",
    "4. This is potentially useful when you have part of a network that is pretrained and not fine-tuned, for example word embeddings or a pretrained imagenet model."
   ]
  },
  {
   "cell_type": "code",
   "execution_count": 63,
   "metadata": {},
   "outputs": [],
   "source": [
    "x = torch.Tensor(3, 5).uniform_(-1, 1)\n",
    "y = torch.Tensor(3, 5).uniform_(-1, 1)\n",
    "z = torch.Tensor(3, 5).uniform_(-1, 1)"
   ]
  },
  {
   "cell_type": "code",
   "execution_count": 64,
   "metadata": {},
   "outputs": [],
   "source": [
    "# Requires grad assignments\n",
    "x.requires_grad = False\n",
    "y.requires_grad = False\n",
    "z.requires_grad = True"
   ]
  },
  {
   "cell_type": "code",
   "execution_count": 65,
   "metadata": {},
   "outputs": [
    {
     "name": "stdout",
     "output_type": "stream",
     "text": [
      " o = x + y requires grad ? : False \n",
      " o = x + y + z requires grad ? : True \n"
     ]
    }
   ],
   "source": [
    "o = x + y\n",
    "print(' o = x + y requires grad ? : %s ' % (o.requires_grad))\n",
    "o = x + y + z\n",
    "print(' o = x + y + z requires grad ? : %s ' % (o.requires_grad))"
   ]
  },
  {
   "cell_type": "markdown",
   "metadata": {},
   "source": [
    "### `.detach()`\n",
    "\n",
    "1. It is possible to detach variables from the graph by calling `.detach()`. \n",
    "2. This could lead to disconnected graphs. In which case PyTorch will only backpropagate gradients until the point of disconnection."
   ]
  },
  {
   "cell_type": "code",
   "execution_count": 69,
   "metadata": {},
   "outputs": [],
   "source": [
    "x = torch.Tensor(3, 5).uniform_(-1, 1)\n",
    "y = torch.Tensor(3, 5).uniform_(-1, 1)\n",
    "z = torch.Tensor(3, 5).uniform_(-1, 1)"
   ]
  },
  {
   "cell_type": "markdown",
   "metadata": {},
   "source": [
    "![caption](images/detach.png)"
   ]
  },
  {
   "cell_type": "code",
   "execution_count": 70,
   "metadata": {},
   "outputs": [],
   "source": [
    "# Setting gradient requirements\n",
    "x.requires_grad = True\n",
    "y.requires_grad = True\n",
    "z.requires_grad = True"
   ]
  },
  {
   "cell_type": "code",
   "execution_count": 71,
   "metadata": {},
   "outputs": [],
   "source": [
    "m1 = x + y\n",
    "m2 = z ** 2\n",
    "m1 = m1.detach()\n",
    "m3 = m1 + m2\n",
    "m3.backward(torch.ones(3, 5))"
   ]
  },
  {
   "cell_type": "code",
   "execution_count": 72,
   "metadata": {},
   "outputs": [
    {
     "name": "stdout",
     "output_type": "stream",
     "text": [
      "dm3/dx \n",
      "\n",
      " None \n",
      "\n",
      "dm3/dy \n",
      "\n",
      " None \n",
      "\n",
      "dm3/dz \n",
      "\n",
      " tensor([[ 0.5873,  0.3034,  0.2369, -0.2147, -1.0424],\n",
      "        [ 1.0415, -1.3117, -1.1575, -0.4519,  1.6409],\n",
      "        [-0.7689,  0.0927,  1.1965,  1.2050, -0.0966]]) \n"
     ]
    }
   ],
   "source": [
    "print('dm3/dx \\n\\n %s ' % (x.grad))\n",
    "print('\\ndm3/dy \\n\\n %s ' % (y.grad))\n",
    "print('\\ndm3/dz \\n\\n %s ' % (z.grad))"
   ]
  },
  {
   "cell_type": "markdown",
   "metadata": {
    "collapsed": true
   },
   "source": [
    "## Gradients w.r.t intermediate variables in the graph\n",
    "\n",
    "1. By default, PyTorch all gradient computations w.r.t intermediate nodes in the graph are ad-hoc.\n",
    "\n",
    "2. This is in the interest of saving memory.\n",
    "\n",
    "3. To compute gradients w.r.t intermediate variables, use `.retain_grad()` or explicitly compute gradients using `torch.autograd.grad`\n",
    "\n",
    "4. `.retain_grad()` populates the `.grad` attribute of the tensor while `torch.autograd.grad` returns a tensor that contains the gradients."
   ]
  },
  {
   "cell_type": "code",
   "execution_count": 73,
   "metadata": {},
   "outputs": [],
   "source": [
    "x = torch.Tensor(3, 5).uniform_(-1, 1)\n",
    "y = torch.Tensor(3, 5).uniform_(-1, 1)\n",
    "z = torch.Tensor(3, 5).uniform_(-1, 1)"
   ]
  },
  {
   "cell_type": "code",
   "execution_count": 74,
   "metadata": {},
   "outputs": [],
   "source": [
    "# Setting gradient requirements\n",
    "x.requires_grad = True\n",
    "y.requires_grad = True\n",
    "z.requires_grad = True"
   ]
  },
  {
   "cell_type": "code",
   "execution_count": 75,
   "metadata": {},
   "outputs": [],
   "source": [
    "m1 = x + y\n",
    "m2 = z ** 2\n",
    "m1.retain_grad()\n",
    "m2.retain_grad()\n",
    "m3 = m1 * m2\n",
    "m3.backward(torch.ones(3, 5))"
   ]
  },
  {
   "cell_type": "code",
   "execution_count": 76,
   "metadata": {},
   "outputs": [
    {
     "name": "stdout",
     "output_type": "stream",
     "text": [
      "dm3/dm1 \n",
      "\n",
      " tensor([[0.0475, 0.3182, 0.0710, 0.4032, 0.0499],\n",
      "        [0.3085, 0.0627, 0.1340, 0.0162, 0.3985],\n",
      "        [0.0622, 0.0447, 0.0616, 0.0132, 0.1004]]) \n",
      "dm3/dm2 \n",
      "\n",
      " tensor([[ 0.4285,  0.1395, -0.2023,  0.0714,  0.8476],\n",
      "        [ 1.7018, -0.9725, -0.9733, -0.2363,  0.9779],\n",
      "        [ 1.0983,  0.9697,  0.1050, -0.7002, -0.4050]]) \n"
     ]
    }
   ],
   "source": [
    "print('dm3/dm1 \\n\\n %s ' % (m1.grad))\n",
    "print('dm3/dm2 \\n\\n %s ' % (m2.grad))"
   ]
  },
  {
   "cell_type": "markdown",
   "metadata": {},
   "source": [
    "### In place operations on variables in a graph\n",
    "\n",
    "source: http://pytorch.org/docs/master/notes/autograd.html\n",
    "\n",
    "In place operations are suffixed by `_` ex: `log_`, `uniform_` etc.\n",
    "\n",
    "1. Supporting in-place operations in autograd is difficult and PyTorch discourages their use in most cases.\n",
    "\n",
    "2. Autograd’s aggressive buffer freeing and reuse makes it very efficient and there are very few occasions when in-place operations actually lower memory usage by any significant amount. Unless you’re operating under heavy memory pressure, you might never need to use them.\n",
    "\n",
    "### There are two main reasons that limit the applicability of in-place operations:\n",
    "\n",
    "(a) Overwriting values required to compute gradients. This is why variables don’t support `log_`. Its gradient formula requires the original input, and while it is possible to recreate it by computing the inverse operation, it is numerically unstable, and requires additional work that often defeats the purpose of using these functions.\n",
    "\n",
    "(b) Every in-place operation actually requires the implementation to rewrite the computational graph. Out-of-place versions simply allocate new objects and keep references to the old graph, while in-place operations, require changing the creator of all inputs to the Function representing this operation. This can be tricky, especially if there are many Variables that reference the same storage (e.g. created by indexing or transposing), and in-place functions will actually raise an error if the storage of modified inputs is referenced by any other Variable.\n",
    "In-place correctness checks"
   ]
  },
  {
   "cell_type": "markdown",
   "metadata": {},
   "source": [
    "## Second and higher order derivatives\n",
    "\n",
    "### Computing gradients w.r.t gradients\n",
    "\n",
    "1. `o = xy + z ** 2`\n",
    "2. `l = o ** 3 + do_dz`"
   ]
  },
  {
   "cell_type": "code",
   "execution_count": 84,
   "metadata": {},
   "outputs": [],
   "source": [
    "x = torch.Tensor(5, 3).uniform_(-1, 1)\n",
    "y = torch.Tensor(3, 5).uniform_(-1, 1)\n",
    "z = torch.Tensor(5, 5).uniform_(-1, 1)"
   ]
  },
  {
   "cell_type": "code",
   "execution_count": 85,
   "metadata": {},
   "outputs": [],
   "source": [
    "# Setting gradient requirements\n",
    "x.requires_grad = True\n",
    "y.requires_grad = True\n",
    "z.requires_grad = True"
   ]
  },
  {
   "cell_type": "code",
   "execution_count": 86,
   "metadata": {},
   "outputs": [
    {
     "name": "stdout",
     "output_type": "stream",
     "text": [
      "do/dz \n",
      "\n",
      " : tensor([[ 1.1486, -0.5590,  0.1641, -1.1943,  1.7544],\n",
      "        [-0.8638,  1.4439, -1.3479,  1.1914, -1.4932],\n",
      "        [-1.7980, -1.8647,  0.7458, -1.5407, -0.6826],\n",
      "        [-1.6410, -1.4988, -0.6686,  1.0944,  0.9396],\n",
      "        [ 0.2901,  1.2748,  1.0154,  0.4187,  0.7825]], grad_fn=<MulBackward0>) \n",
      "dl/dz \n",
      "\n",
      " : tensor([[ 2.3091,  1.8875,  2.0071,  1.1295,  9.3688],\n",
      "        [ 1.9759,  2.0020,  0.1605,  2.6641, -1.2088],\n",
      "        [-0.6832,  0.2437,  2.0689,  1.2481,  1.5517],\n",
      "        [ 1.3195, -0.5342,  0.0706,  2.2338,  2.2560],\n",
      "        [ 2.0005,  2.7764,  3.9440,  5.3283,  2.3846]]) \n"
     ]
    }
   ],
   "source": [
    "o = torch.mm(x, y) + z ** 2\n",
    "# if create_graph=False then the resulting gradient is volatile and cannot be used further to compute a second loss.\n",
    "do_dz = torch.autograd.grad(o, z, grad_outputs=torch.ones(5, 5), retain_graph=True, create_graph=True)\n",
    "print('do/dz \\n\\n : %s ' % (do_dz[0]))\n",
    "l = o ** 3 + do_dz[0]\n",
    "dl_dz = torch.autograd.grad(l, z, grad_outputs=torch.ones(5, 5))\n",
    "print('dl/dz \\n\\n : %s ' % (dl_dz[0]))"
   ]
  },
  {
   "cell_type": "code",
   "execution_count": null,
   "metadata": {},
   "outputs": [],
   "source": []
  }
 ],
 "metadata": {
  "kernelspec": {
   "display_name": "Python 3",
   "language": "python",
   "name": "python3"
  },
  "language_info": {
   "codemirror_mode": {
    "name": "ipython",
    "version": 3
   },
   "file_extension": ".py",
   "mimetype": "text/x-python",
   "name": "python",
   "nbconvert_exporter": "python",
   "pygments_lexer": "ipython3",
   "version": "3.7.1"
  }
 },
 "nbformat": 4,
 "nbformat_minor": 2
}
